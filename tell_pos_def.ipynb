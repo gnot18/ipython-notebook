{
 "cells": [
  {
   "cell_type": "code",
   "execution_count": 1,
   "metadata": {},
   "outputs": [],
   "source": [
    "import numpy as np"
   ]
  },
  {
   "cell_type": "markdown",
   "metadata": {},
   "source": [
    "### Parameters\n",
    "Assigning parameter values from _Marte  J.  Sætra,  Gaute  T.  Einevoll,  and  Geir  Halnes.   An  electrodiffusive,  ion  conserving  pinsky-rinzelmodel with homeostatic mechanisms.PLOS Computational Biology, 16(4):1–36, 04 2020._"
   ]
  },
  {
   "cell_type": "code",
   "execution_count": 9,
   "metadata": {},
   "outputs": [],
   "source": [
    "#surface-to-volume ratio, cm^-1\n",
    "s = (616*10**-12)/(100*1437*10**-18)\n",
    "#intracellular-to-extracellular volume\n",
    "r = 2\n",
    "#membrane specific capacitance, F/cm^2\n",
    "c = 3*10**-2/(10**4)\n",
    "#intracellular tortuosity\n",
    "lambda_in = 3.2\n",
    "#extracellular tortuosity\n",
    "lambda_ex = 1.6\n",
    "#charge of electron, C\n",
    "e = 1.60217662*10**-19\n",
    "#Boltzmann's constant, cm^2.kg.s^-2.K^-1\n",
    "k_B = 1.38064852*10**-23*10**4\n",
    "#absolute temperature, K\n",
    "T = 310.15\n",
    "#Avogadro's constant, mol^-1\n",
    "N_A = 6.02214076*10**23\n",
    "#fraction of free calcium concentration\n",
    "gamma = 0.01\n",
    "#diffusion coefficient, cm^2/s\n",
    "D_Ca = 0.71*10**-9*10**4\n",
    "D_Na = 1.33*10**-9*10**4\n",
    "D_K = 1.96*10**-9*10**4\n",
    "D_Cl = 2.03*10**-9*10**4\n",
    "#initial concentration of intracellular ions, mol/cm^3\n",
    "Ca_i0 = 0.01/(1000*1000)\n",
    "Na_i0 = 15/(1000*1000)\n",
    "K_i0 = 140/(1000*1000)\n",
    "Cl_i0 = 4/(1000*1000)\n",
    "X_i0 = 151/(1000*1000)\n",
    "#initial concentration of extracellular ions, mol/cm^3\n",
    "Ca_e0 = 1.1/(1000*1000)\n",
    "Na_e0 = 145/(1000*1000)\n",
    "K_e0 = 5/(1000*1000)\n",
    "Cl_e0 = 110/(1000*1000)\n",
    "X_e0 = 42.2/(1000*1000)\n",
    "#diffusion coefficient of nonspecific ion, averaged and normalized by total initial concentration, cm^2/S\n",
    "D_w = (D_Na*Na_i0+D_K*K_i0+D_Cl*Cl_i0)/(Na_i0+K_i0+Cl_i0+X_i0)\n",
    "D_y = (D_Ca*Ca_e0+D_Na*Na_e0+D_K*K_e0+D_Cl*Cl_e0)/(Ca_e0+Na_e0+K_e0+Cl_e0+X_e0)\n",
    "#free charge concentration\n",
    "u_f = N_A*gamma*Ca_i0\n",
    "w_f = N_A*(Na_i0+K_i0+Cl_i0)\n",
    "y_f = N_A*(Ca_e0+Na_e0+K_e0+Cl_e0)\n",
    "#initial charge densities\n",
    "u_0 = 2*e*N_A*gamma*Ca_i0\n",
    "w_0 = e*N_A*(Na_i0+K_i0-Cl_i0-X_i0)\n",
    "y_0 = e*N_A*(2*Ca_e0+Na_e0+K_e0-Cl_e0-X_e0)"
   ]
  },
  {
   "cell_type": "markdown",
   "metadata": {},
   "source": [
    "The ionic diffusion coefficient ($cm^2\\cdot s^{-1}$) and the conductivity ($S\\cdot cm^{-1}$) of intracellular calcium and nonspecific ions on both side of the membrane are estimated as\n",
    "\n",
    "$$a_n = \\frac{\\gamma_n D_n}{\\lambda^2}$$\n",
    "and\n",
    "$$\\sigma_n = \\frac{q_e^2n_f}{k_BT}$$\n",
    "respectively."
   ]
  },
  {
   "cell_type": "code",
   "execution_count": 15,
   "metadata": {},
   "outputs": [
    {
     "data": {
      "text/plain": [
       "array([6.93359375e-09, 9.52841482e-07, 5.49593791e-06, 3.61007949e-06,\n",
       "       5.74002639e-02, 9.42591756e-02])"
      ]
     },
     "execution_count": 15,
     "metadata": {},
     "output_type": "execute_result"
    }
   ],
   "source": [
    "a_u = gamma*D_Ca/lambda_in**2\n",
    "a_w = D_w/lambda_in**2\n",
    "a_y = D_y/lambda_ex**2\n",
    "\n",
    "sigma_u = (e**2*u_f)/(k_B*T)\n",
    "sigma_w = (e**2*w_f)/(k_B*T)\n",
    "sigma_y = (e**2*y_f)/(k_B*T)\n",
    "sigma_in = sigma_u + sigma_w\n",
    "\n",
    "np.array([a_u,a_w,a_y,sigma_u,sigma_w,sigma_y])"
   ]
  },
  {
   "cell_type": "markdown",
   "metadata": {},
   "source": [
    "Define the diffusion coefficient matrix:\n",
    "\n",
    "$$\\mathbf{A}=\n",
    "    \\begin{pmatrix}\n",
    "        a_y+\\frac{\\sigma_y(\\sigma_{in}-s a_y c)}{s c(r\\sigma_{in}+\\sigma_y)} & \\frac{\\sigma_y a_u}{s c(r\\sigma_{in}+\\sigma_y)} & \\frac{\\sigma_y a_w}{s c(r\\sigma_{in}+\\sigma_y)}  \\\\\n",
    "         & & \\\\\n",
    "        \\frac{\\sigma_u(\\sigma_y+rs a_yc)}{r\\sigma_{in}+\\sigma_y}    & a_u - \\frac{\\sigma_ur a_w}{r\\sigma_{in}+\\sigma_y} & \\frac{\\sigma_ur a_u}{r\\sigma_{in}+\\sigma_y}  \\\\\n",
    "         & & \\\\\n",
    "        \\frac{\\sigma_w(\\sigma_y+rs a_yc)}{r\\sigma_{in}+\\sigma_y} & \\frac{\\sigma_wr a_u}{r\\sigma_{in}+\\sigma_y} & a_w-\\frac{\\sigma_wr a_w}{r\\sigma_{in}+\\sigma_y}\\\\\n",
    "    \\end{pmatrix}\\in \\mathbb{R}_{>0}^{3\\times 3},$$"
   ]
  },
  {
   "cell_type": "code",
   "execution_count": 26,
   "metadata": {},
   "outputs": [
    {
     "data": {
      "text/plain": [
       "matrix([[2.01249571e+00, 2.43081273e-07, 3.34051761e-05],\n",
       "        [1.62763014e-06, 6.90068722e-09, 2.39452747e-13],\n",
       "        [2.58793193e-02, 3.80729868e-09, 4.29627655e-07]])"
      ]
     },
     "execution_count": 26,
     "metadata": {},
     "output_type": "execute_result"
    }
   ],
   "source": [
    "avv = a_y + (sigma_y*(sigma_in-s*a_y*c))/(s*c*(r*sigma_in+sigma_y))\n",
    "avu = (sigma_y*a_u)/(s*c*(r*sigma_in+sigma_y))\n",
    "avw = (sigma_y*a_w)/(s*c*(r*sigma_in+sigma_y))\n",
    "\n",
    "auv = sigma_u*(sigma_y+r*s*a_y*c)/(r*sigma_in+sigma_y)\n",
    "auu = a_u - sigma_u*r*a_w/(r*sigma_in+sigma_y)\n",
    "auw = sigma_u*r*a_u/(r*sigma_in+sigma_y)\n",
    "\n",
    "awv = sigma_w*(sigma_y+r*s*a_y*c)/(r*sigma_in+sigma_y)\n",
    "awu = sigma_w*r*a_u/(r*sigma_in+sigma_y)\n",
    "aww = a_w - sigma_w*r*a_w/(r*sigma_in+sigma_y)\n",
    "\n",
    "A = np.matrix([[avv,avu,avw],[auv,auu,auw],[awv,awu,aww]])\n",
    "A"
   ]
  },
  {
   "cell_type": "markdown",
   "metadata": {},
   "source": [
    "To check that $A$ is a positive definite matrix we recall that a non-symmetric real matrix $A\\in M_3(\\mathbb{R})$ is positive definite iff all eigenvalues of $A+A^\\top$ are positive real numbers."
   ]
  },
  {
   "cell_type": "code",
   "execution_count": 29,
   "metadata": {},
   "outputs": [
    {
     "data": {
      "text/plain": [
       "False"
      ]
     },
     "execution_count": 29,
     "metadata": {},
     "output_type": "execute_result"
    }
   ],
   "source": [
    "def is_pos_def(A):\n",
    "    B = A + A.transpose()\n",
    "    return np.all(np.linalg.eigvals(B) > 0)\n",
    "is_pos_def(A)"
   ]
  },
  {
   "cell_type": "code",
   "execution_count": null,
   "metadata": {},
   "outputs": [],
   "source": []
  }
 ],
 "metadata": {
  "kernelspec": {
   "display_name": "Python 3",
   "language": "python",
   "name": "python3"
  },
  "language_info": {
   "codemirror_mode": {
    "name": "ipython",
    "version": 3
   },
   "file_extension": ".py",
   "mimetype": "text/x-python",
   "name": "python",
   "nbconvert_exporter": "python",
   "pygments_lexer": "ipython3",
   "version": "3.7.8"
  }
 },
 "nbformat": 4,
 "nbformat_minor": 4
}
